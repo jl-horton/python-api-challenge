{
 "cells": [
  {
   "cell_type": "markdown",
   "metadata": {},
   "source": [
    "# WeatherPy\n",
    "----\n",
    "\n",
    "#### Note\n",
    "* Instructions have been included for each segment. You do not have to follow them exactly, but they are included to help you think through the steps."
   ]
  },
  {
   "cell_type": "code",
   "execution_count": null,
   "metadata": {
    "scrolled": true
   },
   "outputs": [],
   "source": [
    "# import dependencies\r\n",
    "from citipy import citipy\r\n",
    "import matplotlib.pyplot as plt\r\n",
    "import numpy as np \r\n",
    "import pandas as pd\r\n",
    "import requests\r\n",
    "import json\r\n",
    "import datetime as dt\r\n",
    "from scipy.stats import linregress\r\n",
    "\r\n",
    "from api_keys import weather_api_key\r\n",
    "\r\n"
   ]
  },
  {
   "cell_type": "markdown",
   "metadata": {},
   "source": [
    "## Generate Cities List"
   ]
  },
  {
   "cell_type": "code",
   "execution_count": null,
   "metadata": {},
   "outputs": [],
   "source": [
    "# create lists for the latitudes and logitudes generated, and the cities returned\r\n",
    "lat_lon = []        \r\n",
    "cities = []\r\n"
   ]
  },
  {
   "cell_type": "code",
   "execution_count": null,
   "metadata": {},
   "outputs": [],
   "source": [
    "# Create random latitudes and logitudes to look up cities\r\n",
    "lat = np.random.uniform(low=-90, high=90, size=1500)\r\n",
    "lon = np.random.uniform(low=-180, high=180, size=1500)\r\n",
    "lat_lon = zip(lat, lon)\r\n",
    "lat_lon"
   ]
  },
  {
   "cell_type": "code",
   "execution_count": null,
   "metadata": {},
   "outputs": [],
   "source": [
    "# Create the city list\r\n",
    "for lat_lon in lat_lon:\r\n",
    "\r\n",
    "    # Nearest city to the generated lat_lon\r\n",
    "    city = citipy.nearest_city(lat_lon[0], lat_lon[1]).city_name\r\n",
    "\r\n",
    "    # If unique, add to cities\r\n",
    "    if city not in cities:\r\n",
    "        cities.append(city)\r\n",
    "\r\n",
    "# Check cities returned\r\n",
    "# cities"
   ]
  },
  {
   "cell_type": "markdown",
   "metadata": {},
   "source": [
    "### Perform API Calls\n",
    "* Perform a weather check on each city using a series of successive API calls.\n",
    "* Include a print log of each city as it'sbeing processed (with the city number and city name).\n"
   ]
  },
  {
   "cell_type": "code",
   "execution_count": null,
   "metadata": {
    "scrolled": true
   },
   "outputs": [],
   "source": [
    "# Create API url\r\n",
    "url = 'http://api.openweathermap.org/data/2.5/weather?&units=metric'"
   ]
  },
  {
   "cell_type": "code",
   "execution_count": null,
   "metadata": {},
   "outputs": [],
   "source": [
    "# Counter for cities \r\n",
    "number = 1\r\n",
    "\r\n",
    "# Create lists to hold data as called\r\n",
    "city_name = []\r\n",
    "lat = []\r\n",
    "lon = []\r\n",
    "temp = []\r\n",
    "humidity = []\r\n",
    "cloudiness = []\r\n",
    "wind_sp = []\r\n",
    "\r\n"
   ]
  },
  {
   "cell_type": "code",
   "execution_count": null,
   "metadata": {},
   "outputs": [],
   "source": [
    "# Begin the api call\r\n",
    "for city in cities:\r\n",
    "    try:\r\n",
    "        city_data = (requests.get(url + '&q=' + city +'&appid=' + weather_api_key)).json()\r\n",
    "        city_name.append(city_data['name'])\r\n",
    "        lat.append(city_data['coord']['lat'])\r\n",
    "        lon.append(city_data['coord']['lon'])\r\n",
    "        temp.append(city_data['main']['temp_max'])\r\n",
    "        humidity.append(city_data['main']['humidity'])\r\n",
    "        cloudiness.append(city_data['clouds']['all'])\r\n",
    "        wind_sp.append(city_data['wind']['speed'])\r\n",
    "\r\n",
    "        print(f'Processing record {number} of {len(cities)}. | {city}')\r\n",
    "\r\n",
    "        number += 1\r\n",
    "\r\n",
    "\r\n",
    "    except KeyError:\r\n",
    "        print(f'City not found. Skipping {city}...')\r\n",
    "        # number = number + 1\r\n"
   ]
  },
  {
   "cell_type": "code",
   "execution_count": null,
   "metadata": {},
   "outputs": [],
   "source": [
    "#city_name"
   ]
  },
  {
   "cell_type": "markdown",
   "metadata": {},
   "source": [
    "### Convert Raw Data to DataFrame\n",
    "* Export the city data into a .csv.\n",
    "* Display the DataFrame"
   ]
  },
  {
   "cell_type": "code",
   "execution_count": null,
   "metadata": {},
   "outputs": [],
   "source": [
    "# Create dataframe\r\n",
    "city_data_df = pd.DataFrame({'City': city_name,\r\n",
    "                                'Latitude': lat,\r\n",
    "                                'Longitude': lon, \r\n",
    "                                'Temperature': temp,\r\n",
    "                                'Humidity': humidity,\r\n",
    "                                'Cloudiness': cloudiness, \r\n",
    "                                'Wind Speed': wind_sp})\r\n",
    "\r\n",
    "#pd.DataFrame.to_csv(city_data_df, 'city_data.csv')\r\n",
    "\r\n",
    "city_data_df.head()"
   ]
  },
  {
   "cell_type": "markdown",
   "metadata": {},
   "source": [
    "## Inspect the data and remove the cities where the humidity > 100%.\n",
    "----\n",
    "Skip this step if there are no cities that have humidity > 100%. "
   ]
  },
  {
   "cell_type": "code",
   "execution_count": null,
   "metadata": {},
   "outputs": [],
   "source": [
    "# Cities with humidity over 100%\r\n",
    "above_100 = city_data_df[city_data_df.Humidity > 100].index\r\n",
    "above_100"
   ]
  },
  {
   "cell_type": "code",
   "execution_count": null,
   "metadata": {},
   "outputs": [],
   "source": [
    "# Make a new DataFrame equal to the city data to drop all humidity outliers by index.\r\n",
    "# Passing \"inplace=False\" will make a copy of the city_data DataFrame, which we call \"clean_city_data\".\r\n",
    "clean_city_df = city_data_df\r\n",
    "for x in above_100:\r\n",
    "    clean_city_df = city_data_df.drop([x])\r\n",
    "\r\n",
    "clean_city_df"
   ]
  },
  {
   "cell_type": "markdown",
   "metadata": {},
   "source": [
    "## Plotting the Data\n",
    "* Use proper labeling of the plots using plot titles (including date of analysis) and axes labels.\n",
    "* Save the plotted figures as .pngs."
   ]
  },
  {
   "cell_type": "markdown",
   "metadata": {},
   "source": [
    "## Latitude vs. Temperature Plot"
   ]
  },
  {
   "cell_type": "code",
   "execution_count": null,
   "metadata": {
    "scrolled": true
   },
   "outputs": [],
   "source": [
    "# Call the cate\r\n",
    "date = dt.datetime.today().strftime('%d/%m/%y')\r\n",
    "\r\n",
    "# Plot temperature\r\n",
    "plt.scatter(clean_city_df['Latitude'], city_data_df['Temperature'])\r\n",
    "plt.title(f'City Latitude vs. Max Temperature {date}')\r\n",
    "plt.xlabel('Latitude')\r\n",
    "plt.ylabel('Max Temperature (C)')\r\n",
    "plt.savefig('lat_temp.png')"
   ]
  },
  {
   "cell_type": "markdown",
   "metadata": {},
   "source": [
    "## Latitude vs. Humidity Plot"
   ]
  },
  {
   "cell_type": "code",
   "execution_count": null,
   "metadata": {},
   "outputs": [],
   "source": [
    "# Plot humidity\r\n",
    "plt.scatter(clean_city_df['Latitude'], city_data_df['Humidity'])\r\n",
    "plt.title(f'City Latitude vs. Humidity {date}')\r\n",
    "plt.xlabel('Latitude')\r\n",
    "plt.ylabel('Humidity')\r\n",
    "plt.savefig('lat_humidity.png')"
   ]
  },
  {
   "cell_type": "markdown",
   "metadata": {},
   "source": [
    "## Latitude vs. Cloudiness Plot"
   ]
  },
  {
   "cell_type": "code",
   "execution_count": null,
   "metadata": {},
   "outputs": [],
   "source": [
    "# Plot cloudiness\r\n",
    "plt.scatter(clean_city_df['Latitude'], city_data_df['Cloudiness'])\r\n",
    "plt.title(f'City Latitude vs. Cloudiness {date}')\r\n",
    "plt.xlabel('Latitude')\r\n",
    "plt.ylabel('Cloudiness')\r\n",
    "plt.savefig('lat_cloudiness.png')"
   ]
  },
  {
   "cell_type": "markdown",
   "metadata": {},
   "source": [
    "## Latitude vs. Wind Speed Plot"
   ]
  },
  {
   "cell_type": "code",
   "execution_count": null,
   "metadata": {},
   "outputs": [],
   "source": [
    "# Plot wind speed\r\n",
    "plt.scatter(clean_city_df['Latitude'], city_data_df['Wind Speed'])\r\n",
    "plt.title(f'City Latitude vs. Wind Speed {date}')\r\n",
    "plt.xlabel('Latitude')\r\n",
    "plt.ylabel('Wind Speed')\r\n",
    "plt.savefig('lat_wind_speed.png')"
   ]
  },
  {
   "cell_type": "markdown",
   "metadata": {},
   "source": [
    "## Linear Regression"
   ]
  },
  {
   "cell_type": "code",
   "execution_count": null,
   "metadata": {},
   "outputs": [],
   "source": [
    "# Northern and Southern hemisphere dataframes\r\n",
    "north_hem = clean_city_df.loc[clean_city_df['Latitude'] >= 0]\r\n",
    "south_hem = clean_city_df.loc[clean_city_df['Latitude'] < 0]\r\n",
    "\r\n",
    "#north_hem.head()\r\n",
    "#south_hem.head()"
   ]
  },
  {
   "cell_type": "markdown",
   "metadata": {},
   "source": [
    "####  Northern Hemisphere - Max Temp vs. Latitude Linear Regression"
   ]
  },
  {
   "cell_type": "code",
   "execution_count": null,
   "metadata": {},
   "outputs": [],
   "source": [
    "x_values = pd.to_numeric(north_hem['Latitude']).astype(float)\r\n",
    "y_values = pd.to_numeric(north_hem['Temperature']).astype(float)\r\n",
    "(slope, intercept, rvalue, pvalue, stderr) = linregress(x_values, y_values)\r\n",
    "regress_values = x_values * slope + intercept\r\n",
    "line_eq = 'y = ' + str(round(slope,2)) + 'X + ' + str(round(intercept, 2))\r\n",
    "\r\n",
    "# Plot 1: Northern Hemisphere - Max Temp vs. Latitude Linear Regression\r\n",
    "plt.scatter(x_values,y_values)\r\n",
    "plt.plot(x_values,regress_values,\"r-\")\r\n",
    "plt.annotate(line_eq,(16,10),fontsize=15,color=\"red\")\r\n",
    "plt.xlabel('Latitude')\r\n",
    "plt.ylabel('Max Temperature (C)')\r\n",
    "plt.title('Northern Hemisphere - Max Temp vs. Latitude Linear Regression')\r\n",
    "\r\n",
    "# Calculated rvalue to determine whether correlation is significant(if there is truly a relationship):\r\n",
    "print(f\"The r-value is: {rvalue}\")\r\n",
    "\r\n",
    "plt.savefig('north_hem_temp.png')"
   ]
  },
  {
   "cell_type": "markdown",
   "metadata": {},
   "source": [
    "####  Southern Hemisphere - Max Temp vs. Latitude Linear Regression"
   ]
  },
  {
   "cell_type": "code",
   "execution_count": null,
   "metadata": {},
   "outputs": [],
   "source": [
    "x_values = pd.to_numeric(south_hem['Latitude']).astype(float)\r\n",
    "y_values = pd.to_numeric(south_hem['Temperature']).astype(float)\r\n",
    "(slope, intercept, rvalue, pvalue, stderr) = linregress(x_values, y_values)\r\n",
    "regress_values = x_values * slope + intercept\r\n",
    "line_eq = 'y = ' + str(round(slope,2)) + 'X + ' + str(round(intercept, 2))\r\n",
    "\r\n",
    "# Plot 1: Northern Hemisphere - Max Temp vs. Latitude Linear Regression\r\n",
    "plt.scatter(x_values,y_values)\r\n",
    "plt.plot(x_values,regress_values,\"r-\")\r\n",
    "plt.annotate(line_eq,(16,10),fontsize=15,color=\"red\")\r\n",
    "plt.xlabel('Latitude')\r\n",
    "plt.ylabel('Max Temperature (C)')\r\n",
    "plt.title('Southern Hemisphere - Max Temp vs. Latitude Linear Regression')\r\n",
    "\r\n",
    "# Calculated rvalue to determine whether correlation is significant(if there is truly a relationship):\r\n",
    "print(f\"The r-value is: {rvalue}\")\r\n",
    "\r\n",
    "plt.savefig('south_hem_temp.png')"
   ]
  },
  {
   "cell_type": "markdown",
   "metadata": {},
   "source": [
    "####  Northern Hemisphere - Humidity (%) vs. Latitude Linear Regression"
   ]
  },
  {
   "cell_type": "code",
   "execution_count": null,
   "metadata": {},
   "outputs": [],
   "source": [
    "x_values = pd.to_numeric(north_hem['Latitude']).astype(float)\r\n",
    "y_values = pd.to_numeric(north_hem['Humidity']).astype(float)\r\n",
    "(slope, intercept, rvalue, pvalue, stderr) = linregress(x_values, y_values)\r\n",
    "regress_values = x_values * slope + intercept\r\n",
    "line_eq = 'y = ' + str(round(slope,2)) + 'X + ' + str(round(intercept, 2))\r\n",
    "\r\n",
    "# Plot 1: Northern Hemisphere - Max Temp vs. Latitude Linear Regression\r\n",
    "plt.scatter(x_values,y_values)\r\n",
    "plt.plot(x_values,regress_values,\"r-\")\r\n",
    "plt.annotate(line_eq,(16,10),fontsize=15,color=\"red\")\r\n",
    "plt.xlabel('Latitude')\r\n",
    "plt.ylabel('Humidity')\r\n",
    "plt.title('Northern Hemisphere - Humidity vs. Latitude Linear Regression')\r\n",
    "\r\n",
    "# Calculated rvalue to determine whether correlation is significant(if there is truly a relationship):\r\n",
    "print(f\"The r-value is: {rvalue}\")\r\n",
    "\r\n",
    "plt.savefig('north_hem_humidity.png')"
   ]
  },
  {
   "cell_type": "markdown",
   "metadata": {},
   "source": [
    "####  Southern Hemisphere - Humidity (%) vs. Latitude Linear Regression"
   ]
  },
  {
   "cell_type": "code",
   "execution_count": null,
   "metadata": {},
   "outputs": [],
   "source": [
    "x_values = pd.to_numeric(south_hem['Latitude']).astype(float)\r\n",
    "y_values = pd.to_numeric(south_hem['Humidity']).astype(float)\r\n",
    "(slope, intercept, rvalue, pvalue, stderr) = linregress(x_values, y_values)\r\n",
    "regress_values = x_values * slope + intercept\r\n",
    "line_eq = 'y = ' + str(round(slope,2)) + 'X + ' + str(round(intercept, 2))\r\n",
    "\r\n",
    "# Plot 1: Northern Hemisphere - Max Temp vs. Latitude Linear Regression\r\n",
    "plt.scatter(x_values,y_values)\r\n",
    "plt.plot(x_values,regress_values,\"r-\")\r\n",
    "plt.annotate(line_eq,(16,10),fontsize=15,color=\"red\")\r\n",
    "plt.xlabel('Latitude')\r\n",
    "plt.ylabel('Humidity')\r\n",
    "plt.title('Southern Hemisphere - Humidity vs. Latitude Linear Regression')\r\n",
    "\r\n",
    "# Calculated rvalue to determine whether correlation is significant(if there is truly a relationship):\r\n",
    "print(f\"The r-value is: {rvalue}\")\r\n",
    "\r\n",
    "plt.savefig('south_hem_humidity.png')"
   ]
  },
  {
   "cell_type": "markdown",
   "metadata": {},
   "source": [
    "####  Northern Hemisphere - Cloudiness (%) vs. Latitude Linear Regression"
   ]
  },
  {
   "cell_type": "code",
   "execution_count": null,
   "metadata": {},
   "outputs": [],
   "source": [
    "x_values = pd.to_numeric(north_hem['Latitude']).astype(float)\r\n",
    "y_values = pd.to_numeric(north_hem['Cloudiness']).astype(float)\r\n",
    "(slope, intercept, rvalue, pvalue, stderr) = linregress(x_values, y_values)\r\n",
    "regress_values = x_values * slope + intercept\r\n",
    "line_eq = 'y = ' + str(round(slope,2)) + 'X + ' + str(round(intercept, 2))\r\n",
    "\r\n",
    "# Plot 1: Northern Hemisphere - Max Temp vs. Latitude Linear Regression\r\n",
    "plt.scatter(x_values,y_values)\r\n",
    "plt.plot(x_values,regress_values,\"r-\")\r\n",
    "plt.annotate(line_eq,(16,10),fontsize=15,color=\"red\")\r\n",
    "plt.xlabel('Latitude')\r\n",
    "plt.ylabel('Cloudiness')\r\n",
    "plt.title('Northern Hemisphere - Cloudiness vs. Latitude Linear Regression')\r\n",
    "\r\n",
    "# Calculated rvalue to determine whether correlation is significant(if there is truly a relationship):\r\n",
    "print(f\"The r-value is: {rvalue}\")\r\n",
    "\r\n",
    "plt.savefig('north_hem_cloudiness.png')"
   ]
  },
  {
   "cell_type": "markdown",
   "metadata": {},
   "source": [
    "####  Southern Hemisphere - Cloudiness (%) vs. Latitude Linear Regression"
   ]
  },
  {
   "cell_type": "code",
   "execution_count": null,
   "metadata": {},
   "outputs": [],
   "source": [
    "x_values = pd.to_numeric(south_hem['Latitude']).astype(float)\r\n",
    "y_values = pd.to_numeric(south_hem['Cloudiness']).astype(float)\r\n",
    "(slope, intercept, rvalue, pvalue, stderr) = linregress(x_values, y_values)\r\n",
    "regress_values = x_values * slope + intercept\r\n",
    "line_eq = 'y = ' + str(round(slope,2)) + 'X + ' + str(round(intercept, 2))\r\n",
    "\r\n",
    "# Plot 1: Northern Hemisphere - Max Temp vs. Latitude Linear Regression\r\n",
    "plt.scatter(x_values,y_values)\r\n",
    "plt.plot(x_values,regress_values,\"r-\")\r\n",
    "plt.annotate(line_eq,(16,10),fontsize=15,color=\"red\")\r\n",
    "plt.xlabel('Latitude')\r\n",
    "plt.ylabel('Cloudiness')\r\n",
    "plt.title('Southern Hemisphere - Cloudiness vs. Latitude Linear Regression')\r\n",
    "\r\n",
    "# Calculated rvalue to determine whether correlation is significant(if there is truly a relationship):\r\n",
    "print(f\"The r-value is: {rvalue}\")\r\n",
    "\r\n",
    "plt.savefig('south_hem_cloudiness.png')"
   ]
  },
  {
   "cell_type": "markdown",
   "metadata": {},
   "source": [
    "####  Northern Hemisphere - Wind Speed (mph) vs. Latitude Linear Regression"
   ]
  },
  {
   "cell_type": "code",
   "execution_count": null,
   "metadata": {},
   "outputs": [],
   "source": [
    "x_values = pd.to_numeric(north_hem['Latitude']).astype(float)\r\n",
    "y_values = pd.to_numeric(north_hem['Wind Speed']).astype(float)\r\n",
    "(slope, intercept, rvalue, pvalue, stderr) = linregress(x_values, y_values)\r\n",
    "regress_values = x_values * slope + intercept\r\n",
    "line_eq = 'y = ' + str(round(slope,2)) + 'X + ' + str(round(intercept, 2))\r\n",
    "\r\n",
    "# Plot 1: Northern Hemisphere - Max Temp vs. Latitude Linear Regression\r\n",
    "plt.scatter(x_values,y_values)\r\n",
    "plt.plot(x_values,regress_values,\"r-\")\r\n",
    "plt.annotate(line_eq,(16,10),fontsize=15,color=\"red\")\r\n",
    "plt.xlabel('Latitude')\r\n",
    "plt.ylabel('Wind Speed')\r\n",
    "plt.title('Northern Hemisphere - Wind Speed vs. Latitude Linear Regression')\r\n",
    "\r\n",
    "# Calculated rvalue to determine whether correlation is significant(if there is truly a relationship):\r\n",
    "print(f\"The r-value is: {rvalue}\")\r\n",
    "\r\n",
    "plt.savefig('north_hem_wind_speed.png')"
   ]
  },
  {
   "cell_type": "markdown",
   "metadata": {},
   "source": [
    "####  Southern Hemisphere - Wind Speed (mph) vs. Latitude Linear Regression"
   ]
  },
  {
   "cell_type": "code",
   "execution_count": null,
   "metadata": {},
   "outputs": [],
   "source": [
    "x_values = pd.to_numeric(south_hem['Latitude']).astype(float)\r\n",
    "y_values = pd.to_numeric(south_hem['Wind Speed']).astype(float)\r\n",
    "(slope, intercept, rvalue, pvalue, stderr) = linregress(x_values, y_values)\r\n",
    "regress_values = x_values * slope + intercept\r\n",
    "line_eq = 'y = ' + str(round(slope,2)) + 'X + ' + str(round(intercept, 2))\r\n",
    "\r\n",
    "# Plot 1: Northern Hemisphere - Max Temp vs. Latitude Linear Regression\r\n",
    "plt.scatter(x_values,y_values)\r\n",
    "plt.plot(x_values,regress_values,\"r-\")\r\n",
    "plt.annotate(line_eq,(16,10),fontsize=15,color=\"red\")\r\n",
    "plt.xlabel('Latitude')\r\n",
    "plt.ylabel('Wind Speed')\r\n",
    "plt.title('Southern Hemisphere - Wind Speed vs. Latitude Linear Regression')\r\n",
    "\r\n",
    "# Calculated rvalue to determine whether correlation is significant(if there is truly a relationship):\r\n",
    "print(f\"The r-value is: {rvalue}\")\r\n",
    "\r\n",
    "plt.savefig('south_hem_wind_speed.png')"
   ]
  },
  {
   "cell_type": "code",
   "execution_count": null,
   "metadata": {},
   "outputs": [],
   "source": []
  }
 ],
 "metadata": {
  "anaconda-cloud": {},
  "kernel_info": {
   "name": "python3"
  },
  "kernelspec": {
   "display_name": "Python 3.8.8 64-bit ('base': conda)",
   "name": "python388jvsc74a57bd01f9996f6f32af82c4e176a0a6d5057d1b4d3b6190a2312ab7d514f9db0090e01"
  },
  "language_info": {
   "codemirror_mode": {
    "name": "ipython",
    "version": 3
   },
   "file_extension": ".py",
   "mimetype": "text/x-python",
   "name": "python",
   "nbconvert_exporter": "python",
   "pygments_lexer": "ipython3",
   "version": "3.8.8"
  },
  "latex_envs": {
   "LaTeX_envs_menu_present": true,
   "autoclose": false,
   "autocomplete": true,
   "bibliofile": "biblio.bib",
   "cite_by": "apalike",
   "current_citInitial": 1,
   "eqLabelWithNumbers": true,
   "eqNumInitial": 1,
   "hotkeys": {
    "equation": "Ctrl-E",
    "itemize": "Ctrl-I"
   },
   "labels_anchors": false,
   "latex_user_defs": false,
   "report_style_numbering": false,
   "user_envs_cfg": false
  },
  "nteract": {
   "version": "0.12.3"
  }
 },
 "nbformat": 4,
 "nbformat_minor": 2
}