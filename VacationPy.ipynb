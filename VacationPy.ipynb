{
 "cells": [
  {
   "cell_type": "markdown",
   "metadata": {},
   "source": [
    "# VacationPy\n",
    "----\n",
    "\n",
    "#### Note\n",
    "* Keep an eye on your API usage. Use https://developers.google.com/maps/reporting/gmp-reporting as reference for how to monitor your usage and billing.\n",
    "\n",
    "* Instructions have been included for each segment. You do not have to follow them exactly, but they are included to help you think through the steps."
   ]
  },
  {
   "cell_type": "code",
   "execution_count": 1,
   "metadata": {},
   "outputs": [],
   "source": [
    "# Dependencies and Setup\r\n",
    "import matplotlib.pyplot as plt\r\n",
    "import pandas as pd\r\n",
    "import numpy as np\r\n",
    "import requests \r\n",
    "import gmaps\r\n",
    "import os\r\n",
    "\r\n",
    "# Import API key\r\n",
    "from api_keys import g_key"
   ]
  },
  {
   "cell_type": "markdown",
   "metadata": {},
   "source": [
    "### Store Part I results into DataFrame\n",
    "* Load the csv exported in Part I to a DataFrame"
   ]
  },
  {
   "cell_type": "code",
   "execution_count": 2,
   "metadata": {},
   "outputs": [
    {
     "data": {
      "text/html": "<div>\n<style scoped>\n    .dataframe tbody tr th:only-of-type {\n        vertical-align: middle;\n    }\n\n    .dataframe tbody tr th {\n        vertical-align: top;\n    }\n\n    .dataframe thead th {\n        text-align: right;\n    }\n</style>\n<table border=\"1\" class=\"dataframe\">\n  <thead>\n    <tr style=\"text-align: right;\">\n      <th></th>\n      <th>City</th>\n      <th>Country</th>\n      <th>Latitude</th>\n      <th>Longitude</th>\n      <th>Temperature</th>\n      <th>Humidity</th>\n      <th>Cloudiness</th>\n      <th>Wind Speed</th>\n    </tr>\n  </thead>\n  <tbody>\n    <tr>\n      <th>0</th>\n      <td>Deqing</td>\n      <td>CN</td>\n      <td>30.5448</td>\n      <td>119.9599</td>\n      <td>24.44</td>\n      <td>67</td>\n      <td>100</td>\n      <td>0.58</td>\n    </tr>\n    <tr>\n      <th>1</th>\n      <td>Haines Junction</td>\n      <td>CA</td>\n      <td>60.7522</td>\n      <td>-137.5108</td>\n      <td>10.00</td>\n      <td>53</td>\n      <td>100</td>\n      <td>2.06</td>\n    </tr>\n    <tr>\n      <th>2</th>\n      <td>Butaritari</td>\n      <td>KI</td>\n      <td>3.0707</td>\n      <td>172.7902</td>\n      <td>27.96</td>\n      <td>80</td>\n      <td>100</td>\n      <td>5.99</td>\n    </tr>\n    <tr>\n      <th>3</th>\n      <td>Ushuaia</td>\n      <td>AR</td>\n      <td>-54.8000</td>\n      <td>-68.3000</td>\n      <td>10.00</td>\n      <td>53</td>\n      <td>75</td>\n      <td>4.63</td>\n    </tr>\n    <tr>\n      <th>4</th>\n      <td>Klaksvík</td>\n      <td>FO</td>\n      <td>62.2266</td>\n      <td>-6.5890</td>\n      <td>4.00</td>\n      <td>87</td>\n      <td>75</td>\n      <td>9.77</td>\n    </tr>\n    <tr>\n      <th>...</th>\n      <td>...</td>\n      <td>...</td>\n      <td>...</td>\n      <td>...</td>\n      <td>...</td>\n      <td>...</td>\n      <td>...</td>\n      <td>...</td>\n    </tr>\n    <tr>\n      <th>514</th>\n      <td>Mahibadhoo</td>\n      <td>MV</td>\n      <td>3.7833</td>\n      <td>72.9667</td>\n      <td>29.02</td>\n      <td>74</td>\n      <td>16</td>\n      <td>5.77</td>\n    </tr>\n    <tr>\n      <th>515</th>\n      <td>Panique</td>\n      <td>PH</td>\n      <td>12.4797</td>\n      <td>122.0153</td>\n      <td>31.05</td>\n      <td>66</td>\n      <td>97</td>\n      <td>4.75</td>\n    </tr>\n    <tr>\n      <th>516</th>\n      <td>Oktyabr'skoye</td>\n      <td>RU</td>\n      <td>43.0645</td>\n      <td>44.7417</td>\n      <td>14.00</td>\n      <td>100</td>\n      <td>100</td>\n      <td>2.00</td>\n    </tr>\n    <tr>\n      <th>517</th>\n      <td>Broken Hill</td>\n      <td>AU</td>\n      <td>-31.9500</td>\n      <td>141.4333</td>\n      <td>16.00</td>\n      <td>51</td>\n      <td>0</td>\n      <td>2.06</td>\n    </tr>\n    <tr>\n      <th>518</th>\n      <td>Ayan</td>\n      <td>RU</td>\n      <td>56.4500</td>\n      <td>138.1667</td>\n      <td>1.28</td>\n      <td>91</td>\n      <td>100</td>\n      <td>1.26</td>\n    </tr>\n  </tbody>\n</table>\n<p>519 rows × 8 columns</p>\n</div>",
      "text/plain": "                City Country  Latitude  Longitude  Temperature  Humidity  \\\n0             Deqing      CN   30.5448   119.9599        24.44        67   \n1    Haines Junction      CA   60.7522  -137.5108        10.00        53   \n2         Butaritari      KI    3.0707   172.7902        27.96        80   \n3            Ushuaia      AR  -54.8000   -68.3000        10.00        53   \n4           Klaksvík      FO   62.2266    -6.5890         4.00        87   \n..               ...     ...       ...        ...          ...       ...   \n514       Mahibadhoo      MV    3.7833    72.9667        29.02        74   \n515          Panique      PH   12.4797   122.0153        31.05        66   \n516    Oktyabr'skoye      RU   43.0645    44.7417        14.00       100   \n517      Broken Hill      AU  -31.9500   141.4333        16.00        51   \n518             Ayan      RU   56.4500   138.1667         1.28        91   \n\n     Cloudiness  Wind Speed  \n0           100        0.58  \n1           100        2.06  \n2           100        5.99  \n3            75        4.63  \n4            75        9.77  \n..          ...         ...  \n514          16        5.77  \n515          97        4.75  \n516         100        2.00  \n517           0        2.06  \n518         100        1.26  \n\n[519 rows x 8 columns]"
     },
     "execution_count": 2,
     "metadata": {},
     "output_type": "execute_result"
    }
   ],
   "source": [
    "# Load in the data from WeatherPy\r\n",
    "path = 'WeatherPy/city_data.csv'\r\n",
    "vacation_df = pd.read_csv(path)\r\n",
    "vacation_df\r\n"
   ]
  },
  {
   "cell_type": "markdown",
   "metadata": {},
   "source": [
    "### Humidity Heatmap\n",
    "* Configure gmaps.\n",
    "* Use the Lat and Lng as locations and Humidity as the weight.\n",
    "* Add Heatmap layer to map."
   ]
  },
  {
   "cell_type": "code",
   "execution_count": 3,
   "metadata": {},
   "outputs": [],
   "source": [
    "gmaps.configure(api_key=g_key)"
   ]
  },
  {
   "cell_type": "code",
   "execution_count": 14,
   "metadata": {},
   "outputs": [],
   "source": [
    "locations = vacation_df[['Latitude', 'Longitude']]\r\n",
    "\r\n",
    "humidity = vacation_df['Humidity']"
   ]
  },
  {
   "cell_type": "code",
   "execution_count": 22,
   "metadata": {},
   "outputs": [
    {
     "data": {
      "application/vnd.jupyter.widget-view+json": {
       "model_id": "c2a1888e0bd449408efb933190d8878a",
       "version_major": 2,
       "version_minor": 0
      },
      "text/plain": "Figure(layout=FigureLayout(height='420px'))"
     },
     "metadata": {},
     "output_type": "display_data"
    }
   ],
   "source": [
    "fig = gmaps.figure(center=(46.0, -5.0),zoom_level=1)\r\n",
    "max_intensity = np.max(humidity)\r\n",
    "\r\n",
    "heatmap_layer = gmaps.heatmap_layer(locations, weights=humidity,\r\n",
    "                                    dissipating=False, max_intensity=100,\r\n",
    "                                    point_radius=2)\r\n",
    "\r\n",
    "fig.add_layer(heatmap_layer)\r\n",
    "\r\n",
    "fig"
   ]
  },
  {
   "cell_type": "markdown",
   "metadata": {},
   "source": [
    "### Create new DataFrame fitting weather criteria\n",
    "* Narrow down the cities to fit weather conditions.\n",
    "* Drop any rows will null values."
   ]
  },
  {
   "cell_type": "code",
   "execution_count": 24,
   "metadata": {},
   "outputs": [
    {
     "data": {
      "text/html": "<div>\n<style scoped>\n    .dataframe tbody tr th:only-of-type {\n        vertical-align: middle;\n    }\n\n    .dataframe tbody tr th {\n        vertical-align: top;\n    }\n\n    .dataframe thead th {\n        text-align: right;\n    }\n</style>\n<table border=\"1\" class=\"dataframe\">\n  <thead>\n    <tr style=\"text-align: right;\">\n      <th></th>\n      <th>City</th>\n      <th>Country</th>\n      <th>Latitude</th>\n      <th>Longitude</th>\n      <th>Temperature</th>\n      <th>Humidity</th>\n      <th>Cloudiness</th>\n      <th>Wind Speed</th>\n    </tr>\n  </thead>\n  <tbody>\n    <tr>\n      <th>309</th>\n      <td>Najrān</td>\n      <td>SA</td>\n      <td>17.4924</td>\n      <td>44.1277</td>\n      <td>26.00</td>\n      <td>18</td>\n      <td>0</td>\n      <td>2.26</td>\n    </tr>\n    <tr>\n      <th>382</th>\n      <td>Sarai Naurang</td>\n      <td>PK</td>\n      <td>32.8259</td>\n      <td>70.7814</td>\n      <td>30.25</td>\n      <td>31</td>\n      <td>0</td>\n      <td>3.09</td>\n    </tr>\n    <tr>\n      <th>477</th>\n      <td>Riyadh</td>\n      <td>SA</td>\n      <td>24.6877</td>\n      <td>46.7219</td>\n      <td>30.00</td>\n      <td>20</td>\n      <td>0</td>\n      <td>1.54</td>\n    </tr>\n  </tbody>\n</table>\n</div>",
      "text/plain": "              City Country  Latitude  Longitude  Temperature  Humidity  \\\n309         Najrān      SA   17.4924    44.1277        26.00        18   \n382  Sarai Naurang      PK   32.8259    70.7814        30.25        31   \n477         Riyadh      SA   24.6877    46.7219        30.00        20   \n\n     Cloudiness  Wind Speed  \n309           0        2.26  \n382           0        3.09  \n477           0        1.54  "
     },
     "execution_count": 24,
     "metadata": {},
     "output_type": "execute_result"
    }
   ],
   "source": [
    "# Zero cloudiness\r\n",
    "cloud_df = vacation_df[vacation_df['Cloudiness'] == 0]\r\n",
    "\r\n",
    "temp_df = cloud_df[(cloud_df['Temperature'] > 25) & (cloud_df['Temperature'] < 35)]\r\n",
    "\r\n",
    "wind_df = temp_df[temp_df['Wind Speed'] < 10]\r\n",
    "\r\n",
    "humidity_df = wind_df[wind_df['Humidity'] < 45]\r\n",
    "\r\n",
    "hotel_df = humidity_df.dropna()\r\n",
    "hotel_df"
   ]
  },
  {
   "cell_type": "markdown",
   "metadata": {},
   "source": [
    "### Hotel Map\n",
    "* Store into variable named `hotel_df`.\n",
    "* Add a \"Hotel Name\" column to the DataFrame.\n",
    "* Set parameters to search for hotels with 5000 meters.\n",
    "* Hit the Google Places API for each city's coordinates.\n",
    "* Store the first Hotel result into the DataFrame.\n",
    "* Plot markers on top of the heatmap."
   ]
  },
  {
   "cell_type": "code",
   "execution_count": 25,
   "metadata": {},
   "outputs": [],
   "source": [
    "base_url = \"https://maps.googleapis.com/maps/api/place/nearbysearch/json\"\r\n",
    "\r\n",
    "params = {\"type\" : \"hotel\",\r\n",
    "          \"keyword\" : \"hotel\",\r\n",
    "          \"radius\" : 5000,\r\n",
    "          \"key\" : g_key}"
   ]
  },
  {
   "cell_type": "code",
   "execution_count": 26,
   "metadata": {},
   "outputs": [
    {
     "name": "stdout",
     "output_type": "stream",
     "text": [
      "Missing field/result... skipping.\n",
      "------------\n",
      "Closest hotel in Sarai Naurang is Azad Waziristan Hotel.\n",
      "------------\n",
      "Closest hotel in Riyadh is Four Seasons Hotel Riyadh At Kingdom Center.\n",
      "------------\n",
      "-------End of Search-------\n"
     ]
    }
   ],
   "source": [
    "for index, row in hotel_df.iterrows():\r\n",
    "    # get city name, lat, lnt from df\r\n",
    "    lat = row[\"Latitude\"]\r\n",
    "    lng = row[\"Longitude\"]\r\n",
    "    city_name = row[\"City\"]\r\n",
    "    \r\n",
    "    # add keyword to params dict\r\n",
    "    params[\"location\"] = f\"{lat},{lng}\"\r\n",
    "\r\n",
    "    # assemble url and make API request\r\n",
    "    #print(f\"Retrieving Results for Index {index}: {city_name}.\")\r\n",
    "    response = requests.get(base_url, params=params).json()\r\n",
    "    \r\n",
    "    # extract results\r\n",
    "    results = response['results']\r\n",
    "    \r\n",
    "    # save the hotel name to dataframe\r\n",
    "    try:\r\n",
    "        print(f\"Closest hotel in {city_name} is {results[0]['name']}.\")\r\n",
    "        hotel_df.loc[index, \"Hotel Name\"] = results[0]['name']\r\n",
    "\r\n",
    "    # if there is no hotel available, show missing field\r\n",
    "    except (KeyError, IndexError):\r\n",
    "        print(\"Missing field/result... skipping.\")\r\n",
    "        \r\n",
    "    print(\"------------\")\r\n",
    "    \r\n",
    "    # Wait 1 sec to make another api request to avoid SSL Error\r\n",
    "    #time.sleep(1)\r\n",
    "\r\n",
    "# Print end of search once searching is completed\r\n",
    "print(\"-------End of Search-------\")"
   ]
  },
  {
   "cell_type": "code",
   "execution_count": 27,
   "metadata": {},
   "outputs": [
    {
     "data": {
      "text/html": "<div>\n<style scoped>\n    .dataframe tbody tr th:only-of-type {\n        vertical-align: middle;\n    }\n\n    .dataframe tbody tr th {\n        vertical-align: top;\n    }\n\n    .dataframe thead th {\n        text-align: right;\n    }\n</style>\n<table border=\"1\" class=\"dataframe\">\n  <thead>\n    <tr style=\"text-align: right;\">\n      <th></th>\n      <th>City</th>\n      <th>Country</th>\n      <th>Latitude</th>\n      <th>Longitude</th>\n      <th>Temperature</th>\n      <th>Humidity</th>\n      <th>Cloudiness</th>\n      <th>Wind Speed</th>\n      <th>Hotel Name</th>\n    </tr>\n  </thead>\n  <tbody>\n    <tr>\n      <th>382</th>\n      <td>Sarai Naurang</td>\n      <td>PK</td>\n      <td>32.8259</td>\n      <td>70.7814</td>\n      <td>30.25</td>\n      <td>31</td>\n      <td>0</td>\n      <td>3.09</td>\n      <td>Azad Waziristan Hotel</td>\n    </tr>\n    <tr>\n      <th>477</th>\n      <td>Riyadh</td>\n      <td>SA</td>\n      <td>24.6877</td>\n      <td>46.7219</td>\n      <td>30.00</td>\n      <td>20</td>\n      <td>0</td>\n      <td>1.54</td>\n      <td>Four Seasons Hotel Riyadh At Kingdom Center</td>\n    </tr>\n  </tbody>\n</table>\n</div>",
      "text/plain": "              City Country  Latitude  Longitude  Temperature  Humidity  \\\n382  Sarai Naurang      PK   32.8259    70.7814        30.25        31   \n477         Riyadh      SA   24.6877    46.7219        30.00        20   \n\n     Cloudiness  Wind Speed                                   Hotel Name  \n382           0        3.09                        Azad Waziristan Hotel  \n477           0        1.54  Four Seasons Hotel Riyadh At Kingdom Center  "
     },
     "execution_count": 27,
     "metadata": {},
     "output_type": "execute_result"
    }
   ],
   "source": [
    "hotel_df = hotel_df.dropna()\r\n",
    "hotel_df"
   ]
  },
  {
   "cell_type": "code",
   "execution_count": null,
   "metadata": {},
   "outputs": [],
   "source": []
  },
  {
   "cell_type": "code",
   "execution_count": 28,
   "metadata": {},
   "outputs": [],
   "source": [
    "# NOTE: Do not change any of the code in this cell\r\n",
    "\r\n",
    "# Using the template add the hotel marks to the heatmap\r\n",
    "info_box_template = \"\"\"\r\n",
    "<dl>\r\n",
    "<dt>Name</dt><dd>{Hotel Name}</dd>\r\n",
    "<dt>City</dt><dd>{City}</dd>\r\n",
    "<dt>Country</dt><dd>{Country}</dd>\r\n",
    "</dl>\r\n",
    "\"\"\"\r\n",
    "# Store the DataFrame Row\r\n",
    "# NOTE: be sure to update with your DataFrame name\r\n",
    "hotel_info = [info_box_template.format(**row) for index, row in hotel_df.iterrows()]\r\n",
    "locations = hotel_df[[\"Latitude\", \"Longitude\"]]"
   ]
  },
  {
   "cell_type": "code",
   "execution_count": 29,
   "metadata": {},
   "outputs": [
    {
     "data": {
      "application/vnd.jupyter.widget-view+json": {
       "model_id": "c2a1888e0bd449408efb933190d8878a",
       "version_major": 2,
       "version_minor": 0
      },
      "text/plain": "Figure(layout=FigureLayout(height='420px'))"
     },
     "metadata": {},
     "output_type": "display_data"
    }
   ],
   "source": [
    "# Add marker layer ontop of heat map\r\n",
    "markers = gmaps.marker_layer(locations, info_box_content=hotel_info)\r\n",
    "fig.add_layer(markers)\r\n",
    "\r\n",
    "# Display figure\r\n",
    "fig"
   ]
  },
  {
   "cell_type": "code",
   "execution_count": null,
   "metadata": {},
   "outputs": [],
   "source": []
  }
 ],
 "metadata": {
  "kernelspec": {
   "display_name": "Python 3.8.8 64-bit ('base': conda)",
   "name": "python388jvsc74a57bd01f9996f6f32af82c4e176a0a6d5057d1b4d3b6190a2312ab7d514f9db0090e01"
  },
  "language_info": {
   "codemirror_mode": {
    "name": "ipython",
    "version": 3
   },
   "file_extension": ".py",
   "mimetype": "text/x-python",
   "name": "python",
   "nbconvert_exporter": "python",
   "pygments_lexer": "ipython3",
   "version": "3.8.8"
  },
  "latex_envs": {
   "LaTeX_envs_menu_present": true,
   "autoclose": false,
   "autocomplete": true,
   "bibliofile": "biblio.bib",
   "cite_by": "apalike",
   "current_citInitial": 1,
   "eqLabelWithNumbers": true,
   "eqNumInitial": 1,
   "hotkeys": {
    "equation": "Ctrl-E",
    "itemize": "Ctrl-I"
   },
   "labels_anchors": false,
   "latex_user_defs": false,
   "report_style_numbering": false,
   "user_envs_cfg": false
  }
 },
 "nbformat": 4,
 "nbformat_minor": 4
}